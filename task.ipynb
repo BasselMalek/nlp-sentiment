{
    "cells": [
        {
            "cell_type": "markdown",
            "metadata": {},
            "source": [
                "# Sentiment Analysis Notebook\n",
                "\n",
                "This notebook provides a complete workflow for sentiment analysis, from data import to model evaluation and deployment."
            ]
        },
        {
            "cell_type": "markdown",
            "metadata": {},
            "source": [
                "## 1. Setup and Imports"
            ]
        },
        {
            "cell_type": "code",
            "execution_count": 5,
            "metadata": {},
            "outputs": [
                {
                    "name": "stderr",
                    "output_type": "stream",
                    "text": [
                        "[nltk_data] Downloading package punkt to\n",
                        "[nltk_data]     C:\\Users\\basel\\AppData\\Roaming\\nltk_data...\n",
                        "[nltk_data]   Package punkt is already up-to-date!\n",
                        "[nltk_data] Downloading package stopwords to\n",
                        "[nltk_data]     C:\\Users\\basel\\AppData\\Roaming\\nltk_data...\n",
                        "[nltk_data]   Package stopwords is already up-to-date!\n",
                        "[nltk_data] Downloading package wordnet to\n",
                        "[nltk_data]     C:\\Users\\basel\\AppData\\Roaming\\nltk_data...\n",
                        "[nltk_data]   Package wordnet is already up-to-date!\n"
                    ]
                }
            ],
            "source": [
                "import pandas as pd\n",
                "import numpy as np\n",
                "import matplotlib.pyplot as plt\n",
                "import seaborn as sns\n",
                "\n",
                "import nltk\n",
                "from nltk.corpus import stopwords\n",
                "from nltk.tokenize import word_tokenize\n",
                "from nltk.stem import PorterStemmer, WordNetLemmatizer\n",
                "import re\n",
                "import string\n",
                "\n",
                "nltk.download('punkt')\n",
                "nltk.download('stopwords')\n",
                "nltk.download('wordnet')\n",
                "\n",
                "from sklearn.feature_extraction.text import CountVectorizer, TfidfVectorizer\n",
                "\n",
                "from sklearn.model_selection import train_test_split, cross_val_score\n",
                "from sklearn.naive_bayes import MultinomialNB\n",
                "from sklearn.linear_model import LogisticRegression\n",
                "from sklearn.svm import LinearSVC\n",
                "from sklearn.ensemble import RandomForestClassifier\n",
                "\n",
                "# Eval\n",
                "from sklearn.metrics import accuracy_score, precision_score, recall_score, f1_score\n",
                "from sklearn.metrics import confusion_matrix, classification_report\n",
                "\n",
                "\n",
                "\n",
                "pd.set_option('display.max_colwidth', 100)\n",
                "plt.style.use('ggplot')"
            ]
        },
        {
            "cell_type": "markdown",
            "metadata": {},
            "source": [
                "## 2. Data Import"
            ]
        },
        {
            "cell_type": "code",
            "execution_count": 6,
            "metadata": {},
            "outputs": [
                {
                    "name": "stdout",
                    "output_type": "stream",
                    "text": [
                        "Dataset shape: (31232, 4)\n",
                        "\n",
                        "First few rows:\n"
                    ]
                },
                {
                    "data": {
                        "text/html": [
                            "<div>\n",
                            "<style scoped>\n",
                            "    .dataframe tbody tr th:only-of-type {\n",
                            "        vertical-align: middle;\n",
                            "    }\n",
                            "\n",
                            "    .dataframe tbody tr th {\n",
                            "        vertical-align: top;\n",
                            "    }\n",
                            "\n",
                            "    .dataframe thead th {\n",
                            "        text-align: right;\n",
                            "    }\n",
                            "</style>\n",
                            "<table border=\"1\" class=\"dataframe\">\n",
                            "  <thead>\n",
                            "    <tr style=\"text-align: right;\">\n",
                            "      <th></th>\n",
                            "      <th>id</th>\n",
                            "      <th>text</th>\n",
                            "      <th>label</th>\n",
                            "      <th>sentiment</th>\n",
                            "    </tr>\n",
                            "  </thead>\n",
                            "  <tbody>\n",
                            "    <tr>\n",
                            "      <th>0</th>\n",
                            "      <td>9536</td>\n",
                            "      <td>Cooking microwave pizzas, yummy</td>\n",
                            "      <td>2</td>\n",
                            "      <td>positive</td>\n",
                            "    </tr>\n",
                            "    <tr>\n",
                            "      <th>1</th>\n",
                            "      <td>6135</td>\n",
                            "      <td>Any plans of allowing sub tasks to show up in the widget?</td>\n",
                            "      <td>1</td>\n",
                            "      <td>neutral</td>\n",
                            "    </tr>\n",
                            "    <tr>\n",
                            "      <th>2</th>\n",
                            "      <td>17697</td>\n",
                            "      <td>I love the humor, I just reworded it. Like saying 'group therapy' instead`a 'gang banging'. Kee...</td>\n",
                            "      <td>2</td>\n",
                            "      <td>positive</td>\n",
                            "    </tr>\n",
                            "    <tr>\n",
                            "      <th>3</th>\n",
                            "      <td>14182</td>\n",
                            "      <td>naw idk what ur talkin about</td>\n",
                            "      <td>1</td>\n",
                            "      <td>neutral</td>\n",
                            "    </tr>\n",
                            "    <tr>\n",
                            "      <th>4</th>\n",
                            "      <td>17840</td>\n",
                            "      <td>That sucks to hear. I hate days like that</td>\n",
                            "      <td>0</td>\n",
                            "      <td>negative</td>\n",
                            "    </tr>\n",
                            "  </tbody>\n",
                            "</table>\n",
                            "</div>"
                        ],
                        "text/plain": [
                            "      id  \\\n",
                            "0   9536   \n",
                            "1   6135   \n",
                            "2  17697   \n",
                            "3  14182   \n",
                            "4  17840   \n",
                            "\n",
                            "                                                                                                  text  \\\n",
                            "0                                                                      Cooking microwave pizzas, yummy   \n",
                            "1                                            Any plans of allowing sub tasks to show up in the widget?   \n",
                            "2   I love the humor, I just reworded it. Like saying 'group therapy' instead`a 'gang banging'. Kee...   \n",
                            "3                                                                         naw idk what ur talkin about   \n",
                            "4                                                            That sucks to hear. I hate days like that   \n",
                            "\n",
                            "   label sentiment  \n",
                            "0      2  positive  \n",
                            "1      1   neutral  \n",
                            "2      2  positive  \n",
                            "3      1   neutral  \n",
                            "4      0  negative  "
                        ]
                    },
                    "execution_count": 6,
                    "metadata": {},
                    "output_type": "execute_result"
                }
            ],
            "source": [
                "\n",
                "splits = {'train': 'train_df.csv', 'validation': 'val_df.csv', 'test': 'test_df.csv'}\n",
                "df = pd.read_csv(\"hf://datasets/Sp1786/multiclass-sentiment-analysis-dataset/\" + splits[\"train\"])\n",
                "print(f\"Dataset shape: {df.shape}\")\n",
                "print(\"\\nFirst few rows:\")\n",
                "df.head()"
            ]
        },
        {
            "cell_type": "code",
            "execution_count": 7,
            "metadata": {},
            "outputs": [
                {
                    "name": "stdout",
                    "output_type": "stream",
                    "text": [
                        "nulls:\n"
                    ]
                },
                {
                    "data": {
                        "text/plain": [
                            "id           0\n",
                            "text         0\n",
                            "label        0\n",
                            "sentiment    0\n",
                            "dtype: int64"
                        ]
                    },
                    "execution_count": 7,
                    "metadata": {},
                    "output_type": "execute_result"
                }
            ],
            "source": [
                "print(\"nulls:\")\n",
                "df.isnull().sum()"
            ]
        }
    ],
    "metadata": {
        "kernelspec": {
            "display_name": "Python 3",
            "language": "python",
            "name": "python3"
        },
        "language_info": {
            "codemirror_mode": {
                "name": "ipython",
                "version": 3
            },
            "file_extension": ".py",
            "mimetype": "text/x-python",
            "name": "python",
            "nbconvert_exporter": "python",
            "pygments_lexer": "ipython3",
            "version": "3.10.7"
        }
    },
    "nbformat": 4,
    "nbformat_minor": 2
}
