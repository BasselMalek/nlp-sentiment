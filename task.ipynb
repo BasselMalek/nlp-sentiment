{
    "cells": [
        {
            "cell_type": "markdown",
            "metadata": {},
            "source": [
                "# Sentiment Analysis Notebook\n",
                "\n",
                "Sentiment analysis notebook with a simple RNN by Basel."
            ]
        },
        {
            "cell_type": "markdown",
            "metadata": {},
            "source": [
                "## 1. Includes"
            ]
        },
        {
            "cell_type": "code",
            "execution_count": 34,
            "metadata": {},
            "outputs": [
                {
                    "name": "stderr",
                    "output_type": "stream",
                    "text": [
                        "[nltk_data] Downloading package punkt to\n",
                        "[nltk_data]     C:\\Users\\basel\\AppData\\Roaming\\nltk_data...\n",
                        "[nltk_data]   Package punkt is already up-to-date!\n",
                        "[nltk_data] Downloading package punkt_tab to\n",
                        "[nltk_data]     C:\\Users\\basel\\AppData\\Roaming\\nltk_data...\n",
                        "[nltk_data]   Package punkt_tab is already up-to-date!\n",
                        "[nltk_data] Downloading package stopwords to\n",
                        "[nltk_data]     C:\\Users\\basel\\AppData\\Roaming\\nltk_data...\n",
                        "[nltk_data]   Package stopwords is already up-to-date!\n",
                        "[nltk_data] Downloading package wordnet to\n",
                        "[nltk_data]     C:\\Users\\basel\\AppData\\Roaming\\nltk_data...\n",
                        "[nltk_data]   Package wordnet is already up-to-date!\n"
                    ]
                }
            ],
            "source": [
                "# Basics\n",
                "import pandas as pd\n",
                "import numpy as np\n",
                "import matplotlib.pyplot as plt\n",
                "import seaborn as sns\n",
                "import re as reg\n",
                "\n",
                "# NLP refs\n",
                "import nltk\n",
                "from nltk.corpus import stopwords\n",
                "from nltk.tokenize import word_tokenize\n",
                "from nltk.stem import PorterStemmer\n",
                "\n",
                "\n",
                "nltk.download('punkt')\n",
                "nltk.download('punkt_tab')\n",
                "nltk.download('stopwords')\n",
                "nltk.download('wordnet')\n",
                "\n",
                "# THE BIG GUNS\n",
                "from sklearn.model_selection import train_test_split\n",
                "import tensorflow as tf\n",
                "from tensorflow.keras.preprocessing.text import Tokenizer\n",
                "from tensorflow.keras.preprocessing.sequence import pad_sequences\n",
                "from tensorflow.keras.models import Sequential\n",
                "from tensorflow.keras.layers import Embedding, SimpleRNN, Dense, Dropout\n",
                "\n",
                "\n",
                "# Eval\n",
                "from sklearn.metrics import accuracy_score, precision_score, recall_score, f1_score\n",
                "from sklearn.metrics import confusion_matrix, classification_report\n",
                "\n",
                "\n",
                "\n",
                "pd.set_option('display.max_colwidth', 100)\n",
                "plt.style.use('ggplot')"
            ]
        },
        {
            "cell_type": "markdown",
            "metadata": {},
            "source": [
                "## 2. Dataset info"
            ]
        },
        {
            "cell_type": "code",
            "execution_count": 35,
            "metadata": {},
            "outputs": [
                {
                    "name": "stdout",
                    "output_type": "stream",
                    "text": [
                        "Dataset shape: (31232, 4)\n",
                        "\n",
                        "First few rows:\n"
                    ]
                },
                {
                    "data": {
                        "text/html": [
                            "<div>\n",
                            "<style scoped>\n",
                            "    .dataframe tbody tr th:only-of-type {\n",
                            "        vertical-align: middle;\n",
                            "    }\n",
                            "\n",
                            "    .dataframe tbody tr th {\n",
                            "        vertical-align: top;\n",
                            "    }\n",
                            "\n",
                            "    .dataframe thead th {\n",
                            "        text-align: right;\n",
                            "    }\n",
                            "</style>\n",
                            "<table border=\"1\" class=\"dataframe\">\n",
                            "  <thead>\n",
                            "    <tr style=\"text-align: right;\">\n",
                            "      <th></th>\n",
                            "      <th>id</th>\n",
                            "      <th>text</th>\n",
                            "      <th>label</th>\n",
                            "      <th>sentiment</th>\n",
                            "    </tr>\n",
                            "  </thead>\n",
                            "  <tbody>\n",
                            "    <tr>\n",
                            "      <th>0</th>\n",
                            "      <td>9536</td>\n",
                            "      <td>Cooking microwave pizzas, yummy</td>\n",
                            "      <td>2</td>\n",
                            "      <td>positive</td>\n",
                            "    </tr>\n",
                            "    <tr>\n",
                            "      <th>1</th>\n",
                            "      <td>6135</td>\n",
                            "      <td>Any plans of allowing sub tasks to show up in the widget?</td>\n",
                            "      <td>1</td>\n",
                            "      <td>neutral</td>\n",
                            "    </tr>\n",
                            "    <tr>\n",
                            "      <th>2</th>\n",
                            "      <td>17697</td>\n",
                            "      <td>I love the humor, I just reworded it. Like saying 'group therapy' instead`a 'gang banging'. Kee...</td>\n",
                            "      <td>2</td>\n",
                            "      <td>positive</td>\n",
                            "    </tr>\n",
                            "    <tr>\n",
                            "      <th>3</th>\n",
                            "      <td>14182</td>\n",
                            "      <td>naw idk what ur talkin about</td>\n",
                            "      <td>1</td>\n",
                            "      <td>neutral</td>\n",
                            "    </tr>\n",
                            "    <tr>\n",
                            "      <th>4</th>\n",
                            "      <td>17840</td>\n",
                            "      <td>That sucks to hear. I hate days like that</td>\n",
                            "      <td>0</td>\n",
                            "      <td>negative</td>\n",
                            "    </tr>\n",
                            "  </tbody>\n",
                            "</table>\n",
                            "</div>"
                        ],
                        "text/plain": [
                            "      id  \\\n",
                            "0   9536   \n",
                            "1   6135   \n",
                            "2  17697   \n",
                            "3  14182   \n",
                            "4  17840   \n",
                            "\n",
                            "                                                                                                  text  \\\n",
                            "0                                                                      Cooking microwave pizzas, yummy   \n",
                            "1                                            Any plans of allowing sub tasks to show up in the widget?   \n",
                            "2   I love the humor, I just reworded it. Like saying 'group therapy' instead`a 'gang banging'. Kee...   \n",
                            "3                                                                         naw idk what ur talkin about   \n",
                            "4                                                            That sucks to hear. I hate days like that   \n",
                            "\n",
                            "   label sentiment  \n",
                            "0      2  positive  \n",
                            "1      1   neutral  \n",
                            "2      2  positive  \n",
                            "3      1   neutral  \n",
                            "4      0  negative  "
                        ]
                    },
                    "execution_count": 35,
                    "metadata": {},
                    "output_type": "execute_result"
                }
            ],
            "source": [
                "\n",
                "splits = {'train': 'train_df.csv', 'validation': 'val_df.csv', 'test': 'test_df.csv'}\n",
                "df = pd.read_csv(\"hf://datasets/Sp1786/multiclass-sentiment-analysis-dataset/\" + splits[\"train\"])\n",
                "print(f\"Dataset shape: {df.shape}\")\n",
                "print(\"\\nFirst few rows:\")\n",
                "df.head()"
            ]
        },
        {
            "cell_type": "code",
            "execution_count": 36,
            "metadata": {},
            "outputs": [
                {
                    "name": "stdout",
                    "output_type": "stream",
                    "text": [
                        "nulls:\n"
                    ]
                },
                {
                    "data": {
                        "text/plain": [
                            "id           0\n",
                            "text         0\n",
                            "label        0\n",
                            "sentiment    0\n",
                            "dtype: int64"
                        ]
                    },
                    "execution_count": 36,
                    "metadata": {},
                    "output_type": "execute_result"
                }
            ],
            "source": [
                "print(\"nulls:\")\n",
                "df.isnull().sum()"
            ]
        },
        {
            "cell_type": "code",
            "execution_count": 37,
            "metadata": {},
            "outputs": [
                {
                    "name": "stdout",
                    "output_type": "stream",
                    "text": [
                        "has links?\n"
                    ]
                },
                {
                    "data": {
                        "text/html": [
                            "<div>\n",
                            "<style scoped>\n",
                            "    .dataframe tbody tr th:only-of-type {\n",
                            "        vertical-align: middle;\n",
                            "    }\n",
                            "\n",
                            "    .dataframe tbody tr th {\n",
                            "        vertical-align: top;\n",
                            "    }\n",
                            "\n",
                            "    .dataframe thead th {\n",
                            "        text-align: right;\n",
                            "    }\n",
                            "</style>\n",
                            "<table border=\"1\" class=\"dataframe\">\n",
                            "  <thead>\n",
                            "    <tr style=\"text-align: right;\">\n",
                            "      <th></th>\n",
                            "      <th>id</th>\n",
                            "      <th>text</th>\n",
                            "      <th>label</th>\n",
                            "      <th>sentiment</th>\n",
                            "    </tr>\n",
                            "  </thead>\n",
                            "  <tbody>\n",
                            "    <tr>\n",
                            "      <th>21</th>\n",
                            "      <td>14653</td>\n",
                            "      <td>(bye) plurk out muna. will be back when im done reading the book  http://plurk.com/p/rq9c7</td>\n",
                            "      <td>1</td>\n",
                            "      <td>neutral</td>\n",
                            "    </tr>\n",
                            "    <tr>\n",
                            "      <th>24</th>\n",
                            "      <td>2900</td>\n",
                            "      <td>http://twitpic.com/3ernb - Loving The Jumper</td>\n",
                            "      <td>2</td>\n",
                            "      <td>positive</td>\n",
                            "    </tr>\n",
                            "    <tr>\n",
                            "      <th>54</th>\n",
                            "      <td>19253</td>\n",
                            "      <td>Download movie  'Ben 10: Alien Force' http://tinyurl.com/czb7b2 cool #movie</td>\n",
                            "      <td>2</td>\n",
                            "      <td>positive</td>\n",
                            "    </tr>\n",
                            "    <tr>\n",
                            "      <th>64</th>\n",
                            "      <td>172</td>\n",
                            "      <td>URL in previous post (to timer job) should be http://bit.ly/a4Fdb. I`d removed space which messe...</td>\n",
                            "      <td>0</td>\n",
                            "      <td>negative</td>\n",
                            "    </tr>\n",
                            "    <tr>\n",
                            "      <th>102</th>\n",
                            "      <td>13643</td>\n",
                            "      <td>_nicole http://twitpic.com/4t6qx - i have the exact same pic except it`s my hubby &amp; my chihuahua...</td>\n",
                            "      <td>2</td>\n",
                            "      <td>positive</td>\n",
                            "    </tr>\n",
                            "  </tbody>\n",
                            "</table>\n",
                            "</div>"
                        ],
                        "text/plain": [
                            "        id  \\\n",
                            "21   14653   \n",
                            "24    2900   \n",
                            "54   19253   \n",
                            "64     172   \n",
                            "102  13643   \n",
                            "\n",
                            "                                                                                                    text  \\\n",
                            "21            (bye) plurk out muna. will be back when im done reading the book  http://plurk.com/p/rq9c7   \n",
                            "24                                                          http://twitpic.com/3ernb - Loving The Jumper   \n",
                            "54                           Download movie  'Ben 10: Alien Force' http://tinyurl.com/czb7b2 cool #movie   \n",
                            "64   URL in previous post (to timer job) should be http://bit.ly/a4Fdb. I`d removed space which messe...   \n",
                            "102  _nicole http://twitpic.com/4t6qx - i have the exact same pic except it`s my hubby & my chihuahua...   \n",
                            "\n",
                            "     label sentiment  \n",
                            "21       1   neutral  \n",
                            "24       2  positive  \n",
                            "54       2  positive  \n",
                            "64       0  negative  \n",
                            "102      2  positive  "
                        ]
                    },
                    "execution_count": 37,
                    "metadata": {},
                    "output_type": "execute_result"
                }
            ],
            "source": [
                "print(\"has links?\")\n",
                "df[df['text'].str.contains('https?')].head()"
            ]
        },
        {
            "cell_type": "code",
            "execution_count": 38,
            "metadata": {},
            "outputs": [
                {
                    "name": "stdout",
                    "output_type": "stream",
                    "text": [
                        "all english letters?\n"
                    ]
                },
                {
                    "data": {
                        "text/html": [
                            "<div>\n",
                            "<style scoped>\n",
                            "    .dataframe tbody tr th:only-of-type {\n",
                            "        vertical-align: middle;\n",
                            "    }\n",
                            "\n",
                            "    .dataframe tbody tr th {\n",
                            "        vertical-align: top;\n",
                            "    }\n",
                            "\n",
                            "    .dataframe thead th {\n",
                            "        text-align: right;\n",
                            "    }\n",
                            "</style>\n",
                            "<table border=\"1\" class=\"dataframe\">\n",
                            "  <thead>\n",
                            "    <tr style=\"text-align: right;\">\n",
                            "      <th></th>\n",
                            "      <th>id</th>\n",
                            "      <th>text</th>\n",
                            "      <th>label</th>\n",
                            "      <th>sentiment</th>\n",
                            "    </tr>\n",
                            "  </thead>\n",
                            "  <tbody>\n",
                            "    <tr>\n",
                            "      <th>91</th>\n",
                            "      <td>6059</td>\n",
                            "      <td>The app is great, and I´ve started to use it rather than wunderlist. Just 3 stars because I don´...</td>\n",
                            "      <td>1</td>\n",
                            "      <td>neutral</td>\n",
                            "    </tr>\n",
                            "    <tr>\n",
                            "      <th>174</th>\n",
                            "      <td>8112</td>\n",
                            "      <td>💩👎💩👎💩👎💩 👻☠️ IMPOSSIBLE TO DELETE LIST, OR SUB LISTS (TABS)!!! ☠️👻 REGRET v2.0 UPGRADE!! 👎💩👎💩👎💩👎💩...</td>\n",
                            "      <td>0</td>\n",
                            "      <td>negative</td>\n",
                            "    </tr>\n",
                            "    <tr>\n",
                            "      <th>185</th>\n",
                            "      <td>4095</td>\n",
                            "      <td>Es muy útil para mantener las aplicaciones del celular cerradas mientras trabajas.</td>\n",
                            "      <td>2</td>\n",
                            "      <td>positive</td>\n",
                            "    </tr>\n",
                            "    <tr>\n",
                            "      <th>241</th>\n",
                            "      <td>2091</td>\n",
                            "      <td>the app and widɡet are very ɡood. Will change to 5 start when I can be able to add task using go...</td>\n",
                            "      <td>1</td>\n",
                            "      <td>neutral</td>\n",
                            "    </tr>\n",
                            "    <tr>\n",
                            "      <th>414</th>\n",
                            "      <td>26054</td>\n",
                            "      <td>ohhhh, how sad...I didnï¿½t get it!</td>\n",
                            "      <td>0</td>\n",
                            "      <td>negative</td>\n",
                            "    </tr>\n",
                            "  </tbody>\n",
                            "</table>\n",
                            "</div>"
                        ],
                        "text/plain": [
                            "        id  \\\n",
                            "91    6059   \n",
                            "174   8112   \n",
                            "185   4095   \n",
                            "241   2091   \n",
                            "414  26054   \n",
                            "\n",
                            "                                                                                                    text  \\\n",
                            "91   The app is great, and I´ve started to use it rather than wunderlist. Just 3 stars because I don´...   \n",
                            "174  💩👎💩👎💩👎💩 👻☠️ IMPOSSIBLE TO DELETE LIST, OR SUB LISTS (TABS)!!! ☠️👻 REGRET v2.0 UPGRADE!! 👎💩👎💩👎💩👎💩...   \n",
                            "185                   Es muy útil para mantener las aplicaciones del celular cerradas mientras trabajas.   \n",
                            "241  the app and widɡet are very ɡood. Will change to 5 start when I can be able to add task using go...   \n",
                            "414                                                                  ohhhh, how sad...I didnï¿½t get it!   \n",
                            "\n",
                            "     label sentiment  \n",
                            "91       1   neutral  \n",
                            "174      0  negative  \n",
                            "185      2  positive  \n",
                            "241      1   neutral  \n",
                            "414      0  negative  "
                        ]
                    },
                    "execution_count": 38,
                    "metadata": {},
                    "output_type": "execute_result"
                }
            ],
            "source": [
                "print(\"all english letters?\")\n",
                "df[df['text'].str.contains('[^\\x00-\\x7F]')].head()"
            ]
        },
        {
            "cell_type": "markdown",
            "metadata": {},
            "source": [
                "## 3. The Prep Kitchen (Preprocessing)"
            ]
        },
        {
            "cell_type": "code",
            "execution_count": 39,
            "metadata": {},
            "outputs": [
                {
                    "name": "stdout",
                    "output_type": "stream",
                    "text": [
                        "Any stragglers?\n"
                    ]
                },
                {
                    "data": {
                        "text/html": [
                            "<div>\n",
                            "<style scoped>\n",
                            "    .dataframe tbody tr th:only-of-type {\n",
                            "        vertical-align: middle;\n",
                            "    }\n",
                            "\n",
                            "    .dataframe tbody tr th {\n",
                            "        vertical-align: top;\n",
                            "    }\n",
                            "\n",
                            "    .dataframe thead th {\n",
                            "        text-align: right;\n",
                            "    }\n",
                            "</style>\n",
                            "<table border=\"1\" class=\"dataframe\">\n",
                            "  <thead>\n",
                            "    <tr style=\"text-align: right;\">\n",
                            "      <th></th>\n",
                            "      <th>id</th>\n",
                            "      <th>text</th>\n",
                            "      <th>label</th>\n",
                            "      <th>sentiment</th>\n",
                            "      <th>cleaned_text</th>\n",
                            "    </tr>\n",
                            "  </thead>\n",
                            "  <tbody>\n",
                            "  </tbody>\n",
                            "</table>\n",
                            "</div>"
                        ],
                        "text/plain": [
                            "Empty DataFrame\n",
                            "Columns: [id, text, label, sentiment, cleaned_text]\n",
                            "Index: []"
                        ]
                    },
                    "execution_count": 39,
                    "metadata": {},
                    "output_type": "execute_result"
                }
            ],
            "source": [
                "def cleaner(text):\n",
                "    text = text.lower()\n",
                "    text = reg.sub(r'http\\S+|www\\S+|https\\S+', '', text)\n",
                "    text = reg.sub(r'@\\w+', '', text)\n",
                "    text = reg.sub(r'[^a-zA-Z\\s]', '', text)    \n",
                "    text = reg.sub(r'\\s+', ' ', text).strip()\n",
                "    return text\n",
                "df['cleaned_text'] = df['text'].apply(cleaner)\n",
                "print(\"Any stragglers?\")\n",
                "df[df['cleaned_text'].str.contains('[^\\x00-\\x7F]')].head()\n"
            ]
        },
        {
            "cell_type": "code",
            "execution_count": null,
            "metadata": {},
            "outputs": [
                {
                    "data": {
                        "text/plain": [
                            "0                                                           cook microwav pizza yummi\n",
                            "1                                                     plan allow sub task show widget\n",
                            "2    love humor reword like say group therapi insteada gang bang keep mom back hahaha\n",
                            "3                                                                   naw idk ur talkin\n",
                            "4                                                             suck hear hate day like\n",
                            "Name: processed_text, dtype: object"
                        ]
                    },
                    "execution_count": 40,
                    "metadata": {},
                    "output_type": "execute_result"
                }
            ],
            "source": [
                "def preprocesser(text):\n",
                "    # tokenize\n",
                "    tokens = word_tokenize(text)\n",
                "    stop_words = set(stopwords.words('english'))\n",
                "    tokens = [token for token in tokens if token not in stop_words]\n",
                "    \n",
                "    # stem\n",
                "    stemmer = PorterStemmer()\n",
                "    stemmed_tokens = [stemmer.stem(token) for token in tokens]\n",
                "    \n",
                "    processed_text = ' '.join(stemmed_tokens)\n",
                "    \n",
                "    return processed_text\n",
                "\n",
                "df['processed_text'] = df['cleaned_text'].apply(preprocesser)\n",
                "df['processed_text'].head()"
            ]
        },
        {
            "cell_type": "markdown",
            "metadata": {},
            "source": [
                "## 4. Divorcing the dataset (Splitting)"
            ]
        },
        {
            "cell_type": "code",
            "execution_count": 45,
            "metadata": {},
            "outputs": [
                {
                    "name": "stdout",
                    "output_type": "stream",
                    "text": [
                        "Training set shape: (24985,)\n",
                        "Testing set shape: (6247,)\n"
                    ]
                }
            ],
            "source": [
                "X_train, X_test, y_train, y_test = train_test_split(\n",
                "    df['processed_text'], df['label'], test_size=0.2, random_state=42\n",
                ")\n",
                "print(\"Training set shape:\", X_train.shape)\n",
                "print(\"Testing set shape:\", X_test.shape)"
            ]
        },
        {
            "cell_type": "markdown",
            "metadata": {},
            "source": [
                "## 5. CBOWing and stuff (Tokenization/Padding)"
            ]
        },
        {
            "cell_type": "code",
            "execution_count": null,
            "metadata": {},
            "outputs": [
                {
                    "name": "stdout",
                    "output_type": "stream",
                    "text": [
                        "Original text: cook microwav pizza yummi\n",
                        "Tokenized sequence: [1, 1, 921, 1]\n",
                        "Shape of padded sequences: (31232, 150)\n",
                        "Example of padded sequence: [  1   1 921   1   0   0   0   0   0   0   0   0   0   0   0   0   0   0\n",
                        "   0   0   0   0   0   0   0   0   0   0   0   0   0   0   0   0   0   0\n",
                        "   0   0   0   0   0   0   0   0   0   0   0   0   0   0   0   0   0   0\n",
                        "   0   0   0   0   0   0   0   0   0   0   0   0   0   0   0   0   0   0\n",
                        "   0   0   0   0   0   0   0   0   0   0   0   0   0   0   0   0   0   0\n",
                        "   0   0   0   0   0   0   0   0   0   0   0   0   0   0   0   0   0   0\n",
                        "   0   0   0   0   0   0   0   0   0   0   0   0   0   0   0   0   0   0\n",
                        "   0   0   0   0   0   0   0   0   0   0   0   0   0   0   0   0   0   0\n",
                        "   0   0   0   0   0   0]\n"
                    ]
                }
            ],
            "source": [
                "tokenizer = Tokenizer(num_words=1000, oov_token=\"<OOV>\")\n",
                "tokenizer.fit_on_texts(X_train)\n",
                "\n",
                "sequences = tokenizer.texts_to_sequences(X_train)\n",
                "\n",
                "padded_sequences = pad_sequences(sequences, \n",
                "                                maxlen=150,\n",
                "                                padding='post',\n",
                "                                truncating='post')\n",
                "\n",
                "print(\"Original text:\", X_train[0])\n",
                "print(\"Tokenized sequence:\", sequences[0])\n",
                "print(\"Shape of padded sequences:\", padded_sequences.shape)\n",
                "print(\"Example of padded sequence:\", padded_sequences[0])\n",
                "\n",
                "X = padded_sequences\n",
                "y = df['label']"
            ]
        },
        {
            "cell_type": "markdown",
            "metadata": {},
            "source": [
                "## 6. ***IT'S ALIVE*** (Training)"
            ]
        },
        {
            "cell_type": "code",
            "execution_count": 43,
            "metadata": {},
            "outputs": [
                {
                    "name": "stderr",
                    "output_type": "stream",
                    "text": [
                        "c:\\Users\\basel\\AppData\\Local\\Programs\\Python\\Python310\\lib\\site-packages\\keras\\src\\layers\\core\\embedding.py:90: UserWarning: Argument `input_length` is deprecated. Just remove it.\n",
                        "  warnings.warn(\n"
                    ]
                },
                {
                    "data": {
                        "text/html": [
                            "<pre style=\"white-space:pre;overflow-x:auto;line-height:normal;font-family:Menlo,'DejaVu Sans Mono',consolas,'Courier New',monospace\"><span style=\"font-weight: bold\">Model: \"sequential\"</span>\n",
                            "</pre>\n"
                        ],
                        "text/plain": [
                            "\u001b[1mModel: \"sequential\"\u001b[0m\n"
                        ]
                    },
                    "metadata": {},
                    "output_type": "display_data"
                },
                {
                    "data": {
                        "text/html": [
                            "<pre style=\"white-space:pre;overflow-x:auto;line-height:normal;font-family:Menlo,'DejaVu Sans Mono',consolas,'Courier New',monospace\">┏━━━━━━━━━━━━━━━━━━━━━━━━━━━━━━━━━┳━━━━━━━━━━━━━━━━━━━━━━━━┳━━━━━━━━━━━━━━━┓\n",
                            "┃<span style=\"font-weight: bold\"> Layer (type)                    </span>┃<span style=\"font-weight: bold\"> Output Shape           </span>┃<span style=\"font-weight: bold\">       Param # </span>┃\n",
                            "┡━━━━━━━━━━━━━━━━━━━━━━━━━━━━━━━━━╇━━━━━━━━━━━━━━━━━━━━━━━━╇━━━━━━━━━━━━━━━┩\n",
                            "│ embedding (<span style=\"color: #0087ff; text-decoration-color: #0087ff\">Embedding</span>)           │ ?                      │   <span style=\"color: #00af00; text-decoration-color: #00af00\">0</span> (unbuilt) │\n",
                            "├─────────────────────────────────┼────────────────────────┼───────────────┤\n",
                            "│ simple_rnn (<span style=\"color: #0087ff; text-decoration-color: #0087ff\">SimpleRNN</span>)          │ ?                      │   <span style=\"color: #00af00; text-decoration-color: #00af00\">0</span> (unbuilt) │\n",
                            "├─────────────────────────────────┼────────────────────────┼───────────────┤\n",
                            "│ dropout (<span style=\"color: #0087ff; text-decoration-color: #0087ff\">Dropout</span>)               │ ?                      │             <span style=\"color: #00af00; text-decoration-color: #00af00\">0</span> │\n",
                            "├─────────────────────────────────┼────────────────────────┼───────────────┤\n",
                            "│ dense (<span style=\"color: #0087ff; text-decoration-color: #0087ff\">Dense</span>)                   │ ?                      │   <span style=\"color: #00af00; text-decoration-color: #00af00\">0</span> (unbuilt) │\n",
                            "└─────────────────────────────────┴────────────────────────┴───────────────┘\n",
                            "</pre>\n"
                        ],
                        "text/plain": [
                            "┏━━━━━━━━━━━━━━━━━━━━━━━━━━━━━━━━━┳━━━━━━━━━━━━━━━━━━━━━━━━┳━━━━━━━━━━━━━━━┓\n",
                            "┃\u001b[1m \u001b[0m\u001b[1mLayer (type)                   \u001b[0m\u001b[1m \u001b[0m┃\u001b[1m \u001b[0m\u001b[1mOutput Shape          \u001b[0m\u001b[1m \u001b[0m┃\u001b[1m \u001b[0m\u001b[1m      Param #\u001b[0m\u001b[1m \u001b[0m┃\n",
                            "┡━━━━━━━━━━━━━━━━━━━━━━━━━━━━━━━━━╇━━━━━━━━━━━━━━━━━━━━━━━━╇━━━━━━━━━━━━━━━┩\n",
                            "│ embedding (\u001b[38;5;33mEmbedding\u001b[0m)           │ ?                      │   \u001b[38;5;34m0\u001b[0m (unbuilt) │\n",
                            "├─────────────────────────────────┼────────────────────────┼───────────────┤\n",
                            "│ simple_rnn (\u001b[38;5;33mSimpleRNN\u001b[0m)          │ ?                      │   \u001b[38;5;34m0\u001b[0m (unbuilt) │\n",
                            "├─────────────────────────────────┼────────────────────────┼───────────────┤\n",
                            "│ dropout (\u001b[38;5;33mDropout\u001b[0m)               │ ?                      │             \u001b[38;5;34m0\u001b[0m │\n",
                            "├─────────────────────────────────┼────────────────────────┼───────────────┤\n",
                            "│ dense (\u001b[38;5;33mDense\u001b[0m)                   │ ?                      │   \u001b[38;5;34m0\u001b[0m (unbuilt) │\n",
                            "└─────────────────────────────────┴────────────────────────┴───────────────┘\n"
                        ]
                    },
                    "metadata": {},
                    "output_type": "display_data"
                },
                {
                    "data": {
                        "text/html": [
                            "<pre style=\"white-space:pre;overflow-x:auto;line-height:normal;font-family:Menlo,'DejaVu Sans Mono',consolas,'Courier New',monospace\"><span style=\"font-weight: bold\"> Total params: </span><span style=\"color: #00af00; text-decoration-color: #00af00\">0</span> (0.00 B)\n",
                            "</pre>\n"
                        ],
                        "text/plain": [
                            "\u001b[1m Total params: \u001b[0m\u001b[38;5;34m0\u001b[0m (0.00 B)\n"
                        ]
                    },
                    "metadata": {},
                    "output_type": "display_data"
                },
                {
                    "data": {
                        "text/html": [
                            "<pre style=\"white-space:pre;overflow-x:auto;line-height:normal;font-family:Menlo,'DejaVu Sans Mono',consolas,'Courier New',monospace\"><span style=\"font-weight: bold\"> Trainable params: </span><span style=\"color: #00af00; text-decoration-color: #00af00\">0</span> (0.00 B)\n",
                            "</pre>\n"
                        ],
                        "text/plain": [
                            "\u001b[1m Trainable params: \u001b[0m\u001b[38;5;34m0\u001b[0m (0.00 B)\n"
                        ]
                    },
                    "metadata": {},
                    "output_type": "display_data"
                },
                {
                    "data": {
                        "text/html": [
                            "<pre style=\"white-space:pre;overflow-x:auto;line-height:normal;font-family:Menlo,'DejaVu Sans Mono',consolas,'Courier New',monospace\"><span style=\"font-weight: bold\"> Non-trainable params: </span><span style=\"color: #00af00; text-decoration-color: #00af00\">0</span> (0.00 B)\n",
                            "</pre>\n"
                        ],
                        "text/plain": [
                            "\u001b[1m Non-trainable params: \u001b[0m\u001b[38;5;34m0\u001b[0m (0.00 B)\n"
                        ]
                    },
                    "metadata": {},
                    "output_type": "display_data"
                }
            ],
            "source": [
                "# Params\n",
                "vocab_size = len(tokenizer.word_index) + 1\n",
                "embedding_dim = 128  \n",
                "rnn_units = 64      \n",
                "max_length = 150     \n",
                "\n",
                "# The real deal\n",
                "model = Sequential([\n",
                "    # Embedding layer\n",
                "    Embedding(vocab_size, embedding_dim, input_length=max_length),\n",
                "    \n",
                "    SimpleRNN(rnn_units, activation='tanh', return_sequences=False),\n",
                "    \n",
                "    Dropout(0.5),\n",
                "    \n",
                "    # Output layer with sigmoid activation for binary classification\n",
                "    Dense(1, activation='sigmoid')\n",
                "])\n",
                "\n",
                "# Compile the model\n",
                "model.compile(\n",
                "    optimizer='adam',\n",
                "    loss='binary_crossentropy',\n",
                "    metrics=['accuracy']\n",
                ")\n",
                "\n",
                "# Display model summary\n",
                "model.summary()\n",
                "\n",
                "# Train the model (uncomment when ready to train)\n",
                "# history = model.fit(\n",
                "#     padded_sequences,\n",
                "#     labels,\n",
                "#     epochs=10,\n",
                "#     batch_size=32,\n",
                "#     validation_split=0.2,\n",
                "#     verbose=1\n",
                "# )"
            ]
        },
        {
            "cell_type": "markdown",
            "metadata": {},
            "source": [
                "## 7. Is he reaally tho? (Eval)"
            ]
        },
        {
            "cell_type": "code",
            "execution_count": null,
            "metadata": {},
            "outputs": [],
            "source": [
                "plt.figure(figsize=(12, 4), dpi=150)\n",
                "plt.plot(history.history['accuracy'], label='train_accuracy')\n",
                "plt.plot(history.history['val_accuracy'], label='val_accuracy')\n",
                "plt.title('Model Accuracy')\n",
                "plt.xlabel('Epoch')\n",
                "plt.ylabel('Accuracy')\n",
                "plt.legend(loc='lower right')\n",
                "plt.show()"
            ]
        },
        {
            "cell_type": "code",
            "execution_count": null,
            "metadata": {},
            "outputs": [],
            "source": [
                "# Get model predictions (probabilities)\n",
                "y_probs = model.predict(padded_sequences)\n",
                "\n",
                "# Converting probs into Binary values\n",
                "y_pred = np.argmax(y_probs, axis=1)"
            ]
        },
        {
            "cell_type": "code",
            "execution_count": null,
            "metadata": {},
            "outputs": [],
            "source": [
                "# Evaluate the model\n",
                "loss, accuracy = model.evaluate(padded_sequences, y_test)\n",
                "print(f\"Loss: {loss}, Accuracy: {accuracy}\")"
            ]
        },
        {
            "cell_type": "code",
            "execution_count": null,
            "metadata": {},
            "outputs": [],
            "source": [
                "# classification report\n",
                "report = classification_report(y_test, y_pred)\n",
                "\n",
                "# the report\n",
                "print(\"Classification Report:\")\n",
                "print(report)"
            ]
        },
        {
            "cell_type": "code",
            "execution_count": null,
            "metadata": {},
            "outputs": [],
            "source": [
                "plt.figure(figsize=(6, 5))\n",
                "sns.heatmap(cfm, annot=True, fmt=\"d\", cmap=\"Blues\", xticklabels=['Negative' , 'Positive' , 'Neutral'], yticklabels=['Negative' , 'Positive','Neutral'])\n",
                "plt.xlabel(\"Predicted Label\")\n",
                "plt.ylabel(\"True Label\")\n",
                "plt.title(\"Confusion Matrix\")\n",
                "plt.show()"
            ]
        }
    ],
    "metadata": {
        "kernelspec": {
            "display_name": "Python 3",
            "language": "python",
            "name": "python3"
        },
        "language_info": {
            "codemirror_mode": {
                "name": "ipython",
                "version": 3
            },
            "file_extension": ".py",
            "mimetype": "text/x-python",
            "name": "python",
            "nbconvert_exporter": "python",
            "pygments_lexer": "ipython3",
            "version": "3.10.7"
        }
    },
    "nbformat": 4,
    "nbformat_minor": 2
}
